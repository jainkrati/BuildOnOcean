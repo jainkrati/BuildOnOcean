{
 "cells": [
  {
   "cell_type": "markdown",
   "id": "69fa1082",
   "metadata": {},
   "source": [
    "## Build On Ocean - Publish Data NFT & Datatoken"
   ]
  },
  {
   "cell_type": "code",
   "execution_count": 1,
   "id": "afeb16ff",
   "metadata": {},
   "outputs": [],
   "source": [
    "import os\n",
    "import subprocess\n",
    "import sys\n",
    "\n",
    "# Set envvars\n",
    "os.environ['TEST_PRIVATE_KEY1']=\"0x8467415bb2ba7c91084d932276214b11a3dd9bdb2930fefa194b666dd8020b99\"\n",
    "os.environ['TEST_PRIVATE_KEY2']=\"0x1d751ded5a32226054cd2e71261039b65afb9ee1c746d055dd699b1150a5befc\"\n",
    "\n",
    "# Set the address file only for ganache\n",
    "os.environ['ADDRESS_FILE']=\"~/.ocean/ocean-contracts/artifacts/address.json\"\n",
    "\n",
    "# Set network URL\n",
    "os.environ['OCEAN_NETWORK_URL']=\"http://127.0.0.1:8545\""
   ]
  },
  {
   "cell_type": "code",
   "execution_count": 2,
   "id": "0857a6b7",
   "metadata": {},
   "outputs": [
    {
     "name": "stdout",
     "output_type": "stream",
     "text": [
      "Created data NFT. Its address is 0x3b3C31712de9f641d9D926C192864b0737E1B3Ec\n"
     ]
    }
   ],
   "source": [
    "# Create Ocean instance\n",
    "from ocean_lib.example_config import ExampleConfig\n",
    "from ocean_lib.ocean.ocean import Ocean\n",
    "config = ExampleConfig.get_config()\n",
    "ocean = Ocean(config)\n",
    "\n",
    "# Create Alice's wallet\n",
    "from ocean_lib.web3_internal.wallet import Wallet\n",
    "alice_private_key = os.getenv('TEST_PRIVATE_KEY1')\n",
    "alice_wallet = Wallet(ocean.web3, alice_private_key, config.block_confirmations, config.transaction_timeout)\n",
    "\n",
    "# Publish an NFT token\n",
    "data_nft = ocean.create_data_nft('NFTToken1', 'NFT1', alice_wallet)\n",
    "print(f\"Created data NFT. Its address is {data_nft.address}\")"
   ]
  },
  {
   "cell_type": "code",
   "execution_count": 3,
   "id": "8f7c1338",
   "metadata": {},
   "outputs": [
    {
     "name": "stdout",
     "output_type": "stream",
     "text": [
      "Created datatoken. Its address is 0x48878C6a90DE17E0A9352629bA388077dA3a3f55\n"
     ]
    }
   ],
   "source": [
    "# Create datatoken related to the above NFT.\n",
    "\n",
    "datatoken = data_nft.create_datatoken(\"Datatoken 1\", \"DT1\", from_wallet=alice_wallet)\n",
    "print(f\"Created datatoken. Its address is {datatoken.address}\")\n"
   ]
  },
  {
   "cell_type": "code",
   "execution_count": 4,
   "id": "320d466f",
   "metadata": {},
   "outputs": [
    {
     "name": "stdout",
     "output_type": "stream",
     "text": [
      "config.network_url = 'http://127.0.0.1:8545'\n",
      "config.block_confirmations = 0\n",
      "config.metadata_cache_uri = 'http://172.15.0.5:5000'\n",
      "config.provider_url = 'http://172.15.0.4:8030'\n",
      "alice_wallet.address = '0x02354A1F160A3fd7ac8b02ee91F04104440B28E7'\n",
      "data NFT token name: NFTToken1\n",
      "data NFT token symbol: NFT1\n",
      "datatoken name: Datatoken 1\n",
      "datatoken symbol: DT1\n"
     ]
    }
   ],
   "source": [
    "# config\n",
    "print(f\"config.network_url = '{config.network_url}'\")\n",
    "print(f\"config.block_confirmations = {config.block_confirmations.value}\")\n",
    "print(f\"config.metadata_cache_uri = '{config.metadata_cache_uri}'\")\n",
    "print(f\"config.provider_url = '{config.provider_url}'\")\n",
    "\n",
    "# wallet\n",
    "print(f\"alice_wallet.address = '{alice_wallet.address}'\")\n",
    "\n",
    "# data NFT\n",
    "print(f\"data NFT token name: {data_nft.token_name()}\")\n",
    "print(f\"data NFT token symbol: {data_nft.symbol()}\")\n",
    "\n",
    "# datatoken\n",
    "print(f\"datatoken name: {datatoken.token_name()}\")\n",
    "print(f\"datatoken symbol: {datatoken.symbol()}\")"
   ]
  },
  {
   "cell_type": "code",
   "execution_count": null,
   "id": "cebdfb84",
   "metadata": {},
   "outputs": [],
   "source": []
  }
 ],
 "metadata": {
  "kernelspec": {
   "display_name": "Python 3 (ipykernel)",
   "language": "python",
   "name": "python3"
  },
  "language_info": {
   "codemirror_mode": {
    "name": "ipython",
    "version": 3
   },
   "file_extension": ".py",
   "mimetype": "text/x-python",
   "name": "python",
   "nbconvert_exporter": "python",
   "pygments_lexer": "ipython3",
   "version": "3.9.13"
  }
 },
 "nbformat": 4,
 "nbformat_minor": 5
}
